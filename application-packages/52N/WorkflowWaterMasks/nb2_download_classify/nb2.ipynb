{
 "cells": [
  {
   "cell_type": "code",
   "execution_count": null,
   "metadata": {},
   "outputs": [],
   "source": [
    "import os\n",
    "from pathlib import Path\n",
    "from datetime import date\n",
    "\n",
    "import gc\n",
    "gc.enable()\n",
    "\n",
    "# snappy imports\n",
    "import snappy\n",
    "from snappy import ProductIO, GPF\n",
    "\n",
    "from sentinelsat import SentinelAPI, read_geojson, geojson_to_wkt"
   ]
  },
  {
   "cell_type": "code",
   "execution_count": null,
   "metadata": {
    "tags": [
     "parameters"
    ]
   },
   "outputs": [],
   "source": [
    "# scihub credentials\n",
    "SCIHUB_UN = 'fillme'\n",
    "SCIHUB_PW = 'fillme'\n",
    "\n",
    "# request parameters - more TBD\n",
    "REQUEST_AREA = \"POLYGON ((6.2567138671875 51.57536261053028, 6.7160797119140625 51.57536261053028, 6.7160797119140625 51.78865666323309, 6.2567138671875 51.78865666323309, 6.2567138671875 51.57536261053028))\"\n",
    "\n",
    "# output directories \n",
    "TMP_OUTPUT_DIR = str(Path.home()) + \"/output/tmp/\"\n",
    "FNL_OUTPUT_DIR = str(Path.home()) + \"/output/\"\n",
    "\n",
    "sentinel_ids = \"6492505e-3777-4d00-88d2-d10df3d04955\" #\"c001a5c2-db67-403e-9ad6-0c6e6a0d903d\"\n",
    "\n",
    "print('REQUEST_AREA:' + REQUEST_AREA)\n",
    "print('sentinel_ids:' + sentinel_ids)"
   ]
  },
  {
   "cell_type": "code",
   "execution_count": null,
   "metadata": {},
   "outputs": [],
   "source": [
    "Path(TMP_OUTPUT_DIR).mkdir(parents=True, exist_ok=True)\n",
    "Path(FNL_OUTPUT_DIR).mkdir(parents=True, exist_ok=True)"
   ]
  },
  {
   "cell_type": "code",
   "execution_count": null,
   "metadata": {},
   "outputs": [],
   "source": [
    "# download file (doesn't get downloaded if already exists)\n",
    "api = SentinelAPI(SCIHUB_UN, SCIHUB_PW)\n",
    "downloaded_file = api.download(sentinel_ids, directory_path=FNL_OUTPUT_DIR)\n",
    "downloaded_file"
   ]
  },
  {
   "cell_type": "code",
   "execution_count": null,
   "metadata": {},
   "outputs": [],
   "source": [
    "import folium\n",
    "from shapely import wkt, geometry\n",
    "\n",
    "dataset_footprint = wkt.loads(downloaded_file['footprint'])\n",
    "aoi_footprint = wkt.loads(REQUEST_AREA)\n",
    "\n",
    "m = folium.Map(zoom_starts=3)\n",
    "m.fit_bounds((\n",
    "    (dataset_footprint.bounds[1], dataset_footprint.bounds[0]), \n",
    "    (dataset_footprint.bounds[3], dataset_footprint.bounds[2])))\n",
    "folium.GeoJson(dataset_footprint).add_to(m)\n",
    "folium.GeoJson(aoi_footprint).add_to(m)\n",
    "m"
   ]
  },
  {
   "cell_type": "markdown",
   "metadata": {},
   "source": [
    "## Sentinel Preprocessing using Snappy"
   ]
  },
  {
   "cell_type": "code",
   "execution_count": null,
   "metadata": {},
   "outputs": [],
   "source": [
    "import shutil\n",
    "import glob\n",
    "\n",
    "def delete_output(output_name):\n",
    "    filepaths = glob.glob(output_name + \"*\")\n",
    "    for filepath in filepaths:\n",
    "        try:\n",
    "            if os.path.isdir(filepath):\n",
    "                shutil.rmtree(filepath, ignore_errors=True)\n",
    "            else: \n",
    "                os.remove(filepath)\n",
    "        except Exception as e:\n",
    "            print(\"Error while deleting path: \", filepath, e)\n",
    "\n",
    "# Some initial configurations\n",
    "snappy.GPF.getDefaultInstance().getOperatorSpiRegistry().loadOperatorSpis()\n",
    "sentinel_image = ProductIO.readProduct(downloaded_file['path'])\n",
    "HashMap = snappy.jpy.get_type('java.util.HashMap')"
   ]
  },
  {
   "cell_type": "code",
   "execution_count": null,
   "metadata": {},
   "outputs": [],
   "source": [
    "%%time\n",
    "# Step: Apply Orbit Files\n",
    "step1_output = os.path.join(TMP_OUTPUT_DIR, \"step1_orbit_files\") \n",
    "\n",
    "# parameters\n",
    "parameters = HashMap()\n",
    "\n",
    "# create and write product\n",
    "step1_product = GPF.createProduct(\"Apply-Orbit-File\", parameters, sentinel_image)\n",
    "ProductIO.writeProduct(step1_product, step1_output, 'BEAM-DIMAP')  "
   ]
  },
  {
   "cell_type": "code",
   "execution_count": null,
   "metadata": {},
   "outputs": [],
   "source": [
    "%%time\n",
    "# Step: Calibration\n",
    "step2_output = os.path.join(TMP_OUTPUT_DIR, \"step2_calibration\")\n",
    "\n",
    "parameters = HashMap()\n",
    "parameters.put('outputSigmaBand', True)\n",
    "parameters.put('outputImageScaleInDb', False)\n",
    "\n",
    "step2_product = snappy.GPF.createProduct(\"Calibration\", parameters, ProductIO.readProduct(step1_output + \".dim\"))\n",
    "ProductIO.writeProduct(step2_product, step2_output, 'BEAM-DIMAP')\n",
    "\n",
    "# free space of previous step\n",
    "delete_output(step1_output)"
   ]
  },
  {
   "cell_type": "code",
   "execution_count": null,
   "metadata": {},
   "outputs": [],
   "source": [
    "%%time\n",
    "# Step: Subsetting to area of interest\n",
    "step3_output = os.path.join(TMP_OUTPUT_DIR, \"step3_subset\")\n",
    "\n",
    "WKTReader = snappy.jpy.get_type('com.vividsolutions.jts.io.WKTReader')\n",
    "geom = WKTReader().read(REQUEST_AREA)\n",
    "\n",
    "parameters = HashMap()\n",
    "parameters.put(\"geoRegion\", geom)\n",
    "parameters.put(\"outputImageScaleInDb\", False)\n",
    "\n",
    "step3_product = GPF.createProduct(\"Subset\", parameters, ProductIO.readProduct(step2_output + \".dim\"))\n",
    "ProductIO.writeProduct(step3_product, step3_output, 'BEAM-DIMAP')\n",
    "\n",
    "# free space of previous step\n",
    "delete_output(step2_output)"
   ]
  },
  {
   "cell_type": "code",
   "execution_count": null,
   "metadata": {},
   "outputs": [],
   "source": [
    "%%time\n",
    "# Step: Speckle Filtering\n",
    "step4_output = os.path.join(TMP_OUTPUT_DIR, \"step4_speckle\")\n",
    "\n",
    "parameters = HashMap()\n",
    "parameters.put(\"filter\", \"Lee\")\n",
    "parameters.put(\"filterSizeX\", 5)\n",
    "parameters.put(\"filterSizeY\", 5)\n",
    "\n",
    "step4_product = GPF.createProduct(\"Speckle-Filter\", parameters, ProductIO.readProduct(step3_output + \".dim\"))\n",
    "ProductIO.writeProduct(step4_product, step4_output, \"BEAM-DIMAP\")\n",
    "\n",
    "# free space of previous step\n",
    "delete_output(step3_output)"
   ]
  },
  {
   "cell_type": "code",
   "execution_count": null,
   "metadata": {},
   "outputs": [],
   "source": [
    "%%time\n",
    "# Step: Terrain Correction\n",
    "step5_output = os.path.join(FNL_OUTPUT_DIR, \"corrected_output\")\n",
    "\n",
    "parameters = HashMap()\n",
    "parameters.put('demName', 'SRTM 3Sec') \n",
    "parameters.put('pixelSpacingInMeter', 10.0) \n",
    "parameters.put('imgResamplingMethod', 'BILINEAR_INTERPOLATION') #BILINEAR_INTERPOLATION NEAREST_NEIGHBOUR\n",
    "parameters.put('demResamplingMethod', 'BILINEAR_INTERPOLATION') \n",
    "# <saveDEM>false</saveDEM>\n",
    "\n",
    "step5_product = GPF.createProduct(\"Terrain-Correction\", parameters, ProductIO.readProduct(step4_output + \".dim\")) \n",
    "ProductIO.writeProduct(step5_product, step5_output, 'GeoTIFF-BigTIFF')\n",
    "\n",
    "# free space of previous step\n",
    "delete_output(step4_output)"
   ]
  },
  {
   "cell_type": "code",
   "execution_count": null,
   "metadata": {},
   "outputs": [],
   "source": [
    "os.remove(downloaded_file['path'])"
   ]
  },
  {
   "cell_type": "markdown",
   "metadata": {},
   "source": [
    "## Classifying Water Pixels"
   ]
  },
  {
   "cell_type": "code",
   "execution_count": null,
   "metadata": {},
   "outputs": [],
   "source": [
    "import os\n",
    "\n",
    "import rasterio \n",
    "import rasterio.features\n",
    "import rasterio.warp\n",
    "from rasterio import mask\n",
    "import numpy as np\n",
    "\n",
    "import matplotlib.pyplot as plt"
   ]
  },
  {
   "cell_type": "code",
   "execution_count": null,
   "metadata": {},
   "outputs": [],
   "source": [
    "s1_corrected_path = step5_output + \".tif\"\n",
    "\n",
    "with rasterio.open(s1_corrected_path) as dataset:\n",
    "    image = dataset.read(2)\n",
    "    image = 10*np.log(image)\n",
    "    image_bbox = dataset.bounds\n",
    "    plt.figure(figsize=(10,15))\n",
    "    plt.imshow(image, cmap='gray')\n",
    "    plt.show()"
   ]
  },
  {
   "cell_type": "code",
   "execution_count": null,
   "metadata": {},
   "outputs": [],
   "source": [
    "from skimage.filters import threshold_otsu, threshold_multiotsu\n",
    "\n",
    "# compute an otsu threshold\n",
    "p = plt.hist(image[~np.isinf(image)], bins=1000)\n",
    "ot = threshold_multiotsu(image[~np.isinf(image)], classes=4, nbins=100)\n",
    "ot = min(ot) # just take the minimum\n",
    "\n",
    "print(f\"Identified threshold according to Otsu: {ot}\")"
   ]
  },
  {
   "cell_type": "code",
   "execution_count": null,
   "metadata": {},
   "outputs": [],
   "source": [
    "inf_mask = np.isinf(image)\n",
    "water_mask = image.copy()\n",
    "water_mask[inf_mask] = ot + 1\n",
    "water_mask = water_mask < ot\n",
    "\n",
    "plt.figure(figsize=(15,20))\n",
    "plt.imshow(water_mask, cmap='Blues')\n",
    "plt.show()"
   ]
  },
  {
   "cell_type": "code",
   "execution_count": null,
   "metadata": {},
   "outputs": [],
   "source": [
    "import folium\n",
    "\n",
    "m = folium.Map(zoom_start=10)\n",
    "m.fit_bounds(((image_bbox.bottom, image_bbox.left), (image_bbox.top, image_bbox.right)))\n",
    "\n",
    "folium.raster_layers.ImageOverlay(\n",
    "    image=water_mask,\n",
    "    bounds=[[image_bbox.bottom, image_bbox.left], [image_bbox.top, image_bbox.right]],\n",
    "    colormap=lambda x: (0, 0, x, max(-.7+x, 0))\n",
    ").add_to(m)\n",
    "\n",
    "m"
   ]
  },
  {
   "cell_type": "code",
   "execution_count": null,
   "metadata": {},
   "outputs": [],
   "source": [
    "with rasterio.open(s1_corrected_path) as src:\n",
    "    profile = src.profile \n",
    "    \n",
    "    profile.update(\n",
    "        dtype=rasterio.uint8,\n",
    "        count=1,\n",
    "        compress='lzw')\n",
    "    \n",
    "    with rasterio.open('result.tif', 'w', **profile) as dst_dataset:\n",
    "        dst_dataset.write(water_mask.astype(rasterio.uint8), 1)"
   ]
  },
  {
   "cell_type": "code",
   "execution_count": null,
   "metadata": {},
   "outputs": [],
   "source": []
  }
 ],
 "metadata": {
  "celltoolbar": "Tags",
  "kernelspec": {
   "display_name": "Python 3",
   "language": "python",
   "name": "python3"
  },
  "language_info": {
   "codemirror_mode": {
    "name": "ipython",
    "version": 3
   },
   "file_extension": ".py",
   "mimetype": "text/x-python",
   "name": "python",
   "nbconvert_exporter": "python",
   "pygments_lexer": "ipython3",
   "version": "3.8.3"
  }
 },
 "nbformat": 4,
 "nbformat_minor": 4
}
