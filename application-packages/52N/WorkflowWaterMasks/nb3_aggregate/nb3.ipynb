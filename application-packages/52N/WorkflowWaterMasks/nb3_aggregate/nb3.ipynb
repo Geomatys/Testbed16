{
 "cells": [
  {
   "cell_type": "code",
   "execution_count": 1,
   "metadata": {},
   "outputs": [
    {
     "ename": "ModuleNotFoundError",
     "evalue": "No module named 'rasterio'",
     "output_type": "error",
     "traceback": [
      "\u001b[0;31m---------------------------------------------------------------------------\u001b[0m",
      "\u001b[0;31mModuleNotFoundError\u001b[0m                       Traceback (most recent call last)",
      "\u001b[0;32m<ipython-input-1-13809931d3f1>\u001b[0m in \u001b[0;36m<module>\u001b[0;34m\u001b[0m\n\u001b[1;32m      1\u001b[0m \u001b[0;32mimport\u001b[0m \u001b[0mos\u001b[0m\u001b[0;34m\u001b[0m\u001b[0;34m\u001b[0m\u001b[0m\n\u001b[1;32m      2\u001b[0m \u001b[0;34m\u001b[0m\u001b[0m\n\u001b[0;32m----> 3\u001b[0;31m \u001b[0;32mimport\u001b[0m \u001b[0mrasterio\u001b[0m\u001b[0;34m\u001b[0m\u001b[0;34m\u001b[0m\u001b[0m\n\u001b[0m\u001b[1;32m      4\u001b[0m \u001b[0;32mimport\u001b[0m \u001b[0mrasterio\u001b[0m\u001b[0;34m.\u001b[0m\u001b[0mfeatures\u001b[0m\u001b[0;34m\u001b[0m\u001b[0;34m\u001b[0m\u001b[0m\n\u001b[1;32m      5\u001b[0m \u001b[0;32mimport\u001b[0m \u001b[0mrasterio\u001b[0m\u001b[0;34m.\u001b[0m\u001b[0mwarp\u001b[0m\u001b[0;34m\u001b[0m\u001b[0;34m\u001b[0m\u001b[0m\n",
      "\u001b[0;31mModuleNotFoundError\u001b[0m: No module named 'rasterio'"
     ]
    }
   ],
   "source": [
    "import os\n",
    "\n",
    "import rasterio \n",
    "import rasterio.features\n",
    "import rasterio.warp\n",
    "from rasterio import mask\n",
    "from rasterio.merge import merge\n",
    "from rasterio.plot import show\n",
    "\n",
    "import numpy as np\n",
    "\n",
    "import matplotlib.pyplot as plt"
   ]
  },
  {
   "cell_type": "code",
   "execution_count": null,
   "metadata": {
    "tags": [
     "parameters"
    ]
   },
   "outputs": [],
   "source": [
    "REQUEST_AREA = \"POLYGON ((6.2567138671875 51.57536261053028, 6.7160797119140625 51.57536261053028, 6.7160797119140625 51.78865666323309, 6.2567138671875 51.78865666323309, 6.2567138671875 51.57536261053028))\"\n",
    "\n",
    "floodmasks_geotiff = [\"./test/result.tif\"]\n",
    "\n",
    "print('REQUEST_AREA:' + REQUEST_AREA)\n",
    "print('floodmasks_geotiff:')\n",
    "print(floodmasks_geotiff)"
   ]
  },
  {
   "cell_type": "code",
   "execution_count": null,
   "metadata": {},
   "outputs": [],
   "source": [
    "import math\n",
    "import os \n",
    "from osgeo import gdal, osr\n",
    "\n",
    "def get_extent(file):\n",
    "    '''Returns min_x, min_y, max_x, max_y'''\n",
    "    dataset = gdal.Open(file)\n",
    "    geotrans = dataset.GetGeoTransform()\n",
    "    return (geotrans[0],\n",
    "            geotrans[3] + geotrans[5] * dataset.RasterYSize,\n",
    "            geotrans[0] + geotrans[1] * dataset.RasterXSize,\n",
    "            geotrans[3])\n",
    "\n",
    "# loop through files and fetch bounding coordinates\n",
    "min_x, max_x, min_y, max_y = (np.inf, -np.inf, np.inf, -np.inf)\n",
    "for file in floodmasks_geotiff:\n",
    "    ds_min_x, ds_min_y, ds_max_x, ds_max_y = get_extent(file)\n",
    "    min_x = min(ds_min_x, min_x)\n",
    "    max_x = max(ds_max_x, max_x)\n",
    "    min_y = min(ds_min_y, min_y)\n",
    "    max_y = max(ds_max_y, max_y)\n",
    "    \n",
    "min_x, max_x, min_y, max_y"
   ]
  },
  {
   "cell_type": "code",
   "execution_count": null,
   "metadata": {},
   "outputs": [],
   "source": [
    "ds = gdal.Open(floodmasks_geotiff[0])\n",
    "gt = list(ds.GetGeoTransform())\n",
    "\n",
    "rows = math.ceil((max_y - min_y) / -gt[5])\n",
    "columns = math.ceil((max_x - min_x) / gt[1])\n",
    "print(f\"cols={columns} rows={rows}\")\n",
    "\n",
    "# create new output\n",
    "driver = gdal.GetDriverByName('gtiff')\n",
    "out_ds = driver.Create('mosaic.tif', columns, rows, 1, gdal.GDT_Byte)\n",
    "out_ds.SetProjection(ds.GetProjection())\n",
    "# out_band\n",
    " \n",
    "# change the upperleft coordinates\n",
    "gt[0], gt[3] = min_x, max_y\n",
    "out_ds.SetGeoTransform(gt)\n",
    "\n",
    "data_arrays = []\n",
    "for n, file in enumerate(floodmasks_geotiff):\n",
    "    ds2 = gdal.Open(file)\n",
    "    trans = gdal.Transformer(ds2, out_ds, [])\n",
    "    success, xyz = trans.TransformPoint(False, 0, 0)\n",
    "    x, y, z = map(int, xyz)\n",
    "    \n",
    "    data = ds2.GetRasterBand(1).ReadAsArray()\n",
    "    \n",
    "    \n",
    "    output_array = np.zeros((rows, columns), dtype=np.int)\n",
    "    output_array[y:y+data.shape[0], x:x+data.shape[1]] = data\n",
    "    data_arrays.append(output_array)\n",
    "\n",
    "summed_floodmask = np.sum(np.array(data_arrays), axis=0)\n",
    "\n",
    "out_band = out_ds.GetRasterBand(1)\n",
    "out_band.WriteArray(summed_floodmask)\n",
    "out_band.FlushCache() \n",
    "out_band = None\n",
    "\n",
    "out_ds = None"
   ]
  },
  {
   "cell_type": "code",
   "execution_count": null,
   "metadata": {},
   "outputs": [],
   "source": [
    "plt.figure(figsize=(10,15))\n",
    "plt.imshow(summed_floodmask, cmap='gray')\n",
    "plt.show()"
   ]
  },
  {
   "cell_type": "code",
   "execution_count": null,
   "metadata": {},
   "outputs": [],
   "source": []
  }
 ],
 "metadata": {
  "celltoolbar": "Tags",
  "kernelspec": {
   "display_name": "Python 3",
   "language": "python",
   "name": "python3"
  },
  "language_info": {
   "codemirror_mode": {
    "name": "ipython",
    "version": 3
   },
   "file_extension": ".py",
   "mimetype": "text/x-python",
   "name": "python",
   "nbconvert_exporter": "python",
   "pygments_lexer": "ipython3",
   "version": "3.8.3"
  }
 },
 "nbformat": 4,
 "nbformat_minor": 2
}
