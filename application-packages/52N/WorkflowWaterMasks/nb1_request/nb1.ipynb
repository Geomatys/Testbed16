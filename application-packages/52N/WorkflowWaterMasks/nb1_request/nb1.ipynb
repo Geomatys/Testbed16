{
 "cells": [
  {
   "cell_type": "code",
   "execution_count": null,
   "metadata": {},
   "outputs": [],
   "source": [
    "import os\n",
    "from pathlib import Path\n",
    "from datetime import date\n",
    "import dateutil.parser\n",
    "\n",
    "import sentinelsat \n",
    "from sentinelsat import SentinelAPI, read_geojson, geojson_to_wkt\n",
    "\n",
    "import scrapbook as sb"
   ]
  },
  {
   "cell_type": "code",
   "execution_count": null,
   "metadata": {
    "tags": [
     "parameters"
    ]
   },
   "outputs": [],
   "source": [
    "# scihub credentials\n",
    "SCIHUB_UN = 'fillme'\n",
    "SCIHUB_PW = 'fillme'\n",
    "\n",
    "# request parameters - more TBD\n",
    "REQUEST_AREA = \"POLYGON ((6.2567138671875 51.57536261053028, 6.7160797119140625 51.57536261053028, 6.7160797119140625 51.78865666323309, 6.2567138671875 51.78865666323309, 6.2567138671875 51.57536261053028))\"\n",
    "START_DATE = \"2020-01-08T00:00:01Z\"\n",
    "END_DATE = \"2020-01-10T23:59:59Z\"\n",
    "\n",
    "print('REQUEST_AREA:' + REQUEST_AREA)\n",
    "print('START_DATE:'   + START_DATE)\n",
    "print('END_DATE:'     + END_DATE)"
   ]
  },
  {
   "cell_type": "code",
   "execution_count": null,
   "metadata": {},
   "outputs": [],
   "source": [
    "start_date = dateutil.parser.parse(START_DATE)\n",
    "end_date = dateutil.parser.parse(END_DATE)\n",
    "\n",
    "# request API\n",
    "api = SentinelAPI(SCIHUB_UN, SCIHUB_PW)\n",
    "products = api.query(\n",
    "    area=REQUEST_AREA, \n",
    "    producttype='GRD',\n",
    "    date=(start_date, end_date),\n",
    "    platformname = \"Sentinel-1\")\n",
    "\n",
    "# just get the first item\n",
    "s1_keys = list(products.keys())\n",
    "s1_keys"
   ]
  },
  {
   "cell_type": "code",
   "execution_count": null,
   "metadata": {},
   "outputs": [],
   "source": [
    "sb.glue(\"s1_dataset_ids\", s1_keys)"
   ]
  },
  {
   "cell_type": "code",
   "execution_count": null,
   "metadata": {},
   "outputs": [],
   "source": []
  }
 ],
 "metadata": {
  "celltoolbar": "Tags",
  "kernelspec": {
   "display_name": "Python 3",
   "language": "python",
   "name": "python3"
  },
  "language_info": {
   "codemirror_mode": {
    "name": "ipython",
    "version": 3
   },
   "file_extension": ".py",
   "mimetype": "text/x-python",
   "name": "python",
   "nbconvert_exporter": "python",
   "pygments_lexer": "ipython3",
   "version": "3.8.3"
  }
 },
 "nbformat": 4,
 "nbformat_minor": 4
}
